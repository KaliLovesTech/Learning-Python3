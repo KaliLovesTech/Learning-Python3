{
 "cells": [
  {
   "cell_type": "code",
   "execution_count": 2,
   "metadata": {},
   "outputs": [
    {
     "name": "stdout",
     "output_type": "stream",
     "text": [
      "Hello World!\n",
      "Hello Again\n",
      "I like typing this.\n",
      "This is fun.\n",
      "Yay! Printing.\n",
      "I'd much rather you 'not'.\n",
      "I \"said\" do not touch this.\n"
     ]
    }
   ],
   "source": [
    "# This is a Python program that demonstrates how to print text to the console.\n",
    "# Each line is a separate command that tells the computer what to do.\n",
    "\n",
    "# The 'print' function displays the text \"Hello World!\" to the console.\n",
    "print(\"Hello World!\")\n",
    "\n",
    "# This line prints \"Hello Again\" to the console.\n",
    "print(\"Hello Again\")\n",
    "\n",
    "# This line prints \"I like typing this.\" to the console.\n",
    "print(\"I like typing this.\")\n",
    "\n",
    "# This line prints \"This is fun.\" to the console.\n",
    "print(\"This is fun.\")\n",
    "\n",
    "# This line uses single quotes to print \"Yay! Printing.\" to the console.\n",
    "# You can use single quotes or double quotes to define text in Python.\n",
    "print('Yay! Printing.')\n",
    "\n",
    "# This line shows how to include quotes inside the text by using a backslash (\\) before the quote.\n",
    "# The backslash escapes the quote character so that it is treated as text, not a string delimiter.\n",
    "print(\"I'd much rather you 'not'.\")\n",
    "\n",
    "# This line demonstrates that you can use either single or double quotes inside the text, \n",
    "# as long as they are not the same as the quotes used to define the text.\n",
    "print('I \"said\" do not touch this.')\n"
   ]
  }
 ],
 "metadata": {
  "kernelspec": {
   "display_name": "Python 3",
   "language": "python",
   "name": "python3"
  },
  "language_info": {
   "codemirror_mode": {
    "name": "ipython",
    "version": 3
   },
   "file_extension": ".py",
   "mimetype": "text/x-python",
   "name": "python",
   "nbconvert_exporter": "python",
   "pygments_lexer": "ipython3",
   "version": "3.12.0"
  }
 },
 "nbformat": 4,
 "nbformat_minor": 2
}
